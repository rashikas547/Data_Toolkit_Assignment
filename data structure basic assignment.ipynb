{
 "cells": [
  {
   "cell_type": "markdown",
   "id": "95b269d4-05c7-43cf-8df8-839de5a982dc",
   "metadata": {},
   "source": [
    "\n",
    "1. Discuss string slicing and provide examples"
   ]
  },
  {
   "cell_type": "markdown",
   "id": "8267f03b-abb5-402c-b541-e499fa321a7a",
   "metadata": {},
   "source": [
    " String slicing in Python allows you to extract a portion of a string using the syntax string[start:stop:step]."
   ]
  },
  {
   "cell_type": "code",
   "execution_count": 2,
   "id": "bccd341e-cf69-422a-b52f-faa4298d7482",
   "metadata": {},
   "outputs": [
    {
     "name": "stdout",
     "output_type": "stream",
     "text": [
      "Python\n",
      "Programming\n",
      "Pto rgamn\n",
      "Programmin\n"
     ]
    }
   ],
   "source": [
    "text = \"Python Programming\"\n",
    "\n",
    "# Extract substring from index 0 to 5\n",
    "print(text[0:6])    \n",
    "\n",
    "# Extract substring from index 7 to 17\n",
    "print(text[7:18])   \n",
    "\n",
    "# Extract every second character\n",
    "print(text[::2])\n",
    "\n",
    "# Extract substring using negative indices\n",
    "print(text[-11:-1])\n"
   ]
  },
  {
   "cell_type": "markdown",
   "id": "91fbe2db-945f-4bed-971e-2678c5c0a63d",
   "metadata": {},
   "source": [
    "2. Explain the key features of lists in Python"
   ]
  },
  {
   "cell_type": "code",
   "execution_count": 75,
   "id": "4ac3f60a-1461-47e9-95ab-d83788eff3ae",
   "metadata": {},
   "outputs": [],
   "source": [
    "\n",
    "#Mutable: Lists can be changed after creation (e.g., adding or removing elements).\n",
    "my_list = [1, 2, 3]\n",
    "my_list[0] = 10  # Output: [10, 2, 3]\n"
   ]
  },
  {
   "cell_type": "code",
   "execution_count": 70,
   "id": "838cd341-76f7-430a-84cb-7fc936f0a989",
   "metadata": {},
   "outputs": [],
   "source": [
    "#Ordered: Elements are stored in the order they are added.\n",
    "\n",
    "my_list = ['a', 'b', 'c']  # Output: ['a', 'b', 'c']\n"
   ]
  },
  {
   "cell_type": "code",
   "execution_count": 71,
   "id": "c2554e4c-4891-40df-a740-0e08be73c4d1",
   "metadata": {},
   "outputs": [],
   "source": [
    "#Allows Duplicates: Lists can have multiple identical elements.\n",
    "\n",
    "my_list = [1, 1, 2, 2]  # Output: [1, 1, 2, 2]\n"
   ]
  },
  {
   "cell_type": "code",
   "execution_count": 72,
   "id": "5173c42a-4941-4137-a31b-502208fc94d7",
   "metadata": {},
   "outputs": [],
   "source": [
    "#Dynamic Size: Lists can grow or shrink dynamically.\n",
    "\n",
    "my_list.append(4)  # Output: [1, 2, 3, 4]\n"
   ]
  },
  {
   "cell_type": "code",
   "execution_count": 73,
   "id": "0da69ec5-43bd-45af-95d2-7f823ba5982a",
   "metadata": {},
   "outputs": [],
   "source": [
    "#Supports Multiple Data Types: Lists can contain different types of elements.\n",
    "\n",
    "my_list = [1, 'hello', [2, 3]]  # Output: [1, 'hello', [2, 3]]\n"
   ]
  },
  {
   "cell_type": "code",
   "execution_count": 74,
   "id": "7d23672a-7ed4-43ce-9af4-eb98ef52b377",
   "metadata": {},
   "outputs": [
    {
     "name": "stdout",
     "output_type": "stream",
     "text": [
      "20\n",
      "[10, 20]\n"
     ]
    }
   ],
   "source": [
    "#Indexable and Slicable: Access elements by index or get subsets via slicing.\n",
    "\n",
    "my_list = [10, 20, 30]\n",
    "print(my_list[1])  # Output: 20\n",
    "print(my_list[0:2])  # Output: [10, 20]\n"
   ]
  },
  {
   "cell_type": "markdown",
   "id": "8e4251f2-9311-46b2-82e4-2a8c22c23abf",
   "metadata": {},
   "source": [
    "3. Describe how to access, modify, and delete elements in a list with examples"
   ]
  },
  {
   "cell_type": "code",
   "execution_count": null,
   "id": "30d8e9a6-d982-4fcf-89ed-22133ff2a957",
   "metadata": {},
   "outputs": [],
   "source": [
    "#acess\n",
    "my_list = ['apple', 'banana', 'cherry']\n",
    "print(my_list[1])  # Output: banana\n"
   ]
  },
  {
   "cell_type": "code",
   "execution_count": null,
   "id": "babef9df-aed8-47a7-9312-fca9fffc0c53",
   "metadata": {},
   "outputs": [],
   "source": [
    "#modify\n",
    "my_list = ['apple', 'banana', 'cherry']\n",
    "my_list[1] = 'blueberry'\n",
    "print(my_list)  # Output: ['apple', 'blueberry', 'cherry']\n"
   ]
  },
  {
   "cell_type": "code",
   "execution_count": null,
   "id": "a07e74ee-0158-4018-812a-94f0c9032401",
   "metadata": {},
   "outputs": [],
   "source": [
    "#remove()\n",
    "\n",
    "my_list = ['apple', 'banana', 'cherry']\n",
    "my_list.remove('banana')\n",
    "print(my_list)  # Output: ['apple', 'cherry']\n"
   ]
  },
  {
   "cell_type": "code",
   "execution_count": null,
   "id": "22a3c097-8fa3-420c-a14a-3d02cc1f265d",
   "metadata": {},
   "outputs": [],
   "source": [
    "#pop()\n",
    "\n",
    "my_list = ['apple', 'banana', 'cherry']\n",
    "popped_element = my_list.pop(1)\n",
    "print(popped_element)  # Output: banana\n",
    "print(my_list)  # Output: ['apple', 'cherry']\n"
   ]
  },
  {
   "cell_type": "markdown",
   "id": "a2445bfe-8e48-4a69-9d2b-772073e042e5",
   "metadata": {},
   "source": [
    "\n",
    "4. Compare and contrast tuples and lists with examples"
   ]
  },
  {
   "cell_type": "markdown",
   "id": "a8d47f1e-d7f9-47f2-be93-4d5581b9cb4c",
   "metadata": {},
   "source": [
    "Mutability:\n",
    "\n",
    "Tuples are immutable (cannot be changed).\n",
    "Lists are mutable (can be changed).\n",
    "Syntax:\n",
    "\n",
    "Tuples use () (parentheses).\n",
    "Lists use [] (square brackets).\n",
    "Use Cases:\n",
    "\n",
    "Tuples: Ideal for fixed data, like coordinates or dictionary keys.\n",
    "Lists: Best for data that might change, like collections of items.\n",
    "Performance:\n",
    "\n",
    "Tuples are faster and use less memory due to immutability.\n",
    "Lists have more functionality but with a slight performance overhead.\n",
    "Methods:\n",
    "\n",
    "Tuples have limited methods (count, index).\n",
    "Lists have many methods for modification (append, remove, pop, etc.)."
   ]
  },
  {
   "cell_type": "code",
   "execution_count": 60,
   "id": "4b421487-97a6-4d95-a605-1bc6ae6a49da",
   "metadata": {},
   "outputs": [],
   "source": [
    "#Tuples: Immutable; cannot be changed.\n",
    "my_tuple = (1, 2, 3)\n",
    "# my_tuple[0] = 4  # This would raise a TypeError\n",
    "\n",
    "\n"
   ]
  },
  {
   "cell_type": "code",
   "execution_count": 61,
   "id": "86c520c2-3a7f-4c32-8d12-b629e4b31617",
   "metadata": {},
   "outputs": [
    {
     "name": "stdout",
     "output_type": "stream",
     "text": [
      "[4, 2, 3]\n"
     ]
    }
   ],
   "source": [
    "#Lists: Mutable; can be changed\n",
    "my_list = [1, 2, 3]\n",
    "my_list[0] = 4\n",
    "print(my_list)  # Output: [4, 2, 3]"
   ]
  },
  {
   "cell_type": "code",
   "execution_count": null,
   "id": "16298c3d-1318-4af2-83a3-2c503279204c",
   "metadata": {},
   "outputs": [],
   "source": [
    "#syntax\n",
    "my_tuple = (1, 2, 3)\n",
    "my_list = [1, 2, 3]\n"
   ]
  },
  {
   "cell_type": "code",
   "execution_count": 62,
   "id": "ad39ef2a-6525-4a8b-a60a-1ded28d51f6b",
   "metadata": {},
   "outputs": [
    {
     "name": "stdout",
     "output_type": "stream",
     "text": [
      "['apple', 'banana', 'orange']\n"
     ]
    }
   ],
   "source": [
    "#Tuples: Fixed data, like coordinates.\n",
    "\n",
    "point = (10, 20)\n",
    "\n",
    "\n",
    "#Lists: Data that changes, like a list of items\n",
    "fruits = ['apple', 'banana']\n",
    "fruits.append('orange')\n",
    "print(fruits)  # Output: ['apple', 'banana', 'orange']\n"
   ]
  },
  {
   "cell_type": "markdown",
   "id": "e31432c7-062e-45ea-b712-795a61701fc6",
   "metadata": {},
   "source": [
    "\n",
    "5.Describe the key features of sets and provide examples of their use"
   ]
  },
  {
   "cell_type": "code",
   "execution_count": 19,
   "id": "86b3671b-382c-451f-8a6c-5428299aab39",
   "metadata": {},
   "outputs": [
    {
     "name": "stdout",
     "output_type": "stream",
     "text": [
      "{1, 2, 3, 4}\n"
     ]
    }
   ],
   "source": [
    "#Unique Elements:\n",
    "\n",
    "#Sets automatically enforce uniqueness of elements. Duplicate elements are not allowed.\n",
    "numbers = {1, 2, 3, 3, 4}\n",
    "print(numbers)  # Output: {1, 2, 3, 4}\n"
   ]
  },
  {
   "cell_type": "code",
   "execution_count": 20,
   "id": "658d8b24-e9e2-4f66-b515-18441300631d",
   "metadata": {},
   "outputs": [
    {
     "name": "stdout",
     "output_type": "stream",
     "text": [
      "{'cherry', 'banana', 'apple'}\n"
     ]
    }
   ],
   "source": [
    "\n",
    "#Unordered Collection:\n",
    "\n",
    "#Sets do not maintain any order of elements. The order of items is not guaranteed.\n",
    "fruits = {'apple', 'banana', 'cherry'}\n",
    "print(fruits)  # Output may vary in order\n"
   ]
  },
  {
   "cell_type": "code",
   "execution_count": 21,
   "id": "1deaba6b-85aa-4790-bd97-e7506d4b63c8",
   "metadata": {},
   "outputs": [
    {
     "name": "stdout",
     "output_type": "stream",
     "text": [
      "{'cherry', 'banana', 'apple'}\n"
     ]
    }
   ],
   "source": [
    "#Mutable:Sets are mutable, meaning you can add or remove elements after creation.\n",
    "\n",
    "fruits = {'apple', 'banana'}\n",
    "fruits.add('cherry')\n",
    "print(fruits)  # Output: {'apple', 'banana', 'cherry'}\n"
   ]
  },
  {
   "cell_type": "code",
   "execution_count": 52,
   "id": "31f0f80f-9b83-46bd-951d-9a9655026ea5",
   "metadata": {},
   "outputs": [],
   "source": [
    "#Set Operations:\n",
    "\n",
    "#Union: Combines elements from two sets\n",
    "\n",
    "set1 = {1, 2, 3}\n",
    "set2 = {3, 4, 5}\n",
    "union=set1 | set2\n"
   ]
  },
  {
   "cell_type": "code",
   "execution_count": 49,
   "id": "9f341fcd-c8d7-45b7-ad3d-b4f42297c3c1",
   "metadata": {},
   "outputs": [],
   "source": [
    "set1\n",
    "\n",
    "intersection = set1 & set2 \n",
    "\n"
   ]
  },
  {
   "cell_type": "code",
   "execution_count": 50,
   "id": "b2b7b1b8-a111-4636-91fa-d418e3bb3b27",
   "metadata": {},
   "outputs": [],
   "source": [
    "difference = set1 - set2  # Output: {1, 2}\n",
    "\n"
   ]
  },
  {
   "cell_type": "code",
   "execution_count": 51,
   "id": "82c80937-009d-4cb9-b6d7-39ae2ad6f701",
   "metadata": {},
   "outputs": [],
   "source": [
    "symmetric_diff = set1 ^ set2  # Output: {1, 2, 4, 5}"
   ]
  },
  {
   "cell_type": "code",
   "execution_count": null,
   "id": "9d3f2e35-e5e9-4a35-b70b-139490242a7b",
   "metadata": {},
   "outputs": [],
   "source": []
  },
  {
   "cell_type": "markdown",
   "id": "6f083a04-402a-42e6-b8b0-5a595193ec2c",
   "metadata": {},
   "source": [
    "\n",
    "6. Discuss the use cases of tuples and sets in Python programming."
   ]
  },
  {
   "cell_type": "markdown",
   "id": "3ce0ba19-9289-4699-a0ef-a3ad569db4f8",
   "metadata": {},
   "source": [
    "Tuples:\n",
    "\n",
    "Immutable Data: Use for fixed, unchangeable data (e.g., coordinates).\n",
    "Dictionary Keys: Use as dictionary keys due to immutability (e.g., locations = {(10, 20): 'Park'}).\n",
    "Returning Multiple Values: Use to return multiple values from functions.\n",
    "Fixed Records: Use for fixed-size records (e.g., (5, 10))."
   ]
  },
  {
   "cell_type": "markdown",
   "id": "c20912cd-bfe2-4f35-a5bd-dfed42364e69",
   "metadata": {},
   "source": [
    "Sets:\n",
    "\n",
    "Unique Elements: Use to store unique items and remove duplicates (e.g., unique_numbers = set([1, 2, 2, 3])).\n",
    "Set Operations: Use for union, intersection, and difference (e.g., common_elements = set1 & set2).\n",
    "Fast Membership Testing: Use for quick checks if an item exists (e.g., 'apple' in fruits).\n",
    "Efficient Operations: Use for differences and overlaps (e.g., unique_to_A = setA - setB)."
   ]
  },
  {
   "cell_type": "markdown",
   "id": "f74f0f6e-3788-484a-bfa1-eaca7cb78218",
   "metadata": {},
   "source": [
    "\n",
    "7.Describe how to add, modify, and delete items in a dictionary with examples."
   ]
  },
  {
   "cell_type": "code",
   "execution_count": 46,
   "id": "3bc0436a-24de-4dec-ac3e-8940f9eea75e",
   "metadata": {},
   "outputs": [
    {
     "name": "stdout",
     "output_type": "stream",
     "text": [
      "{'name': 'Alice', 'age': 30, 'city': 'New York'}\n"
     ]
    }
   ],
   "source": [
    "# Create a dictionary\n",
    "data = {'name': 'Alice', 'age': 30}\n",
    "\n",
    "# Add a new key-value pair\n",
    "data['city'] = 'New York'\n",
    "print(data)  # Output: {'name': 'Alice', 'age': 30, 'city': 'New York'}\n",
    "\n"
   ]
  },
  {
   "cell_type": "code",
   "execution_count": 47,
   "id": "bcdd482b-d7ac-4c21-8609-bb40c64a23ec",
   "metadata": {},
   "outputs": [
    {
     "name": "stdout",
     "output_type": "stream",
     "text": [
      "{'name': 'Alice', 'age': 31, 'city': 'New York'}\n"
     ]
    }
   ],
   "source": [
    "# Modify an existing key-value pair\n",
    "data['age'] = 31\n",
    "print(data)  # Output: {'name': 'Alice', 'age': 31, 'city': 'New York'}\n"
   ]
  },
  {
   "cell_type": "code",
   "execution_count": 48,
   "id": "55dfa4ca-73cf-4514-9145-b15b9abe954a",
   "metadata": {},
   "outputs": [
    {
     "name": "stdout",
     "output_type": "stream",
     "text": [
      "{'name': 'Alice', 'age': 31}\n"
     ]
    }
   ],
   "source": [
    "# Delete a key-value pair\n",
    "del data['city']\n",
    "print(data)  # Output: {'name': 'Alice', 'age': 31}\n"
   ]
  },
  {
   "cell_type": "code",
   "execution_count": 16,
   "id": "8c044438-e0fc-4e9e-91fa-aa09d6bdfd38",
   "metadata": {},
   "outputs": [
    {
     "name": "stdout",
     "output_type": "stream",
     "text": [
      "31\n",
      "{'name': 'Alice'}\n"
     ]
    }
   ],
   "source": [
    "# Remove a key-value pair and get the value\n",
    "age = data.pop('age')\n",
    "print(age)   # Output: 31\n",
    "print(data)  # Output: {'name': 'Alice'}\n"
   ]
  },
  {
   "cell_type": "markdown",
   "id": "3fa59321-a818-4f89-b403-bb083c1b2142",
   "metadata": {},
   "source": [
    "8. Discuss the importance of dictionary keys being immutable and provide examples."
   ]
  },
  {
   "cell_type": "markdown",
   "id": "6ffac671-8467-4cd4-b807-acc5009535f1",
   "metadata": {},
   "source": [
    "Hash Consistency: Immutable keys have a stable hash value, which is essential for efficient dictionary lookups.\n",
    "Predictable Behavior: Immutable keys ensure that once a key is added, its hash value and equality comparison remain consistent.\n",
    "\n",
    "Immutable keys are crucial for maintaining consistent and reliable dictionary operations. \n",
    "Mutable keys would lead to errors and unpredictable behavior."
   ]
  },
  {
   "cell_type": "code",
   "execution_count": null,
   "id": "f1886da9-ab29-4516-9093-091c6d316462",
   "metadata": {},
   "outputs": [],
   "source": [
    "#immutable\n",
    "data = {'name': 'Alice', 1: 'First', (1, 2): 'Tuple Key'}\n"
   ]
  },
  {
   "cell_type": "code",
   "execution_count": null,
   "id": "5dd464e3-8647-4682-9c03-55778a0b7726",
   "metadata": {},
   "outputs": [],
   "source": [
    "#mutable\n",
    "# Using a list as a key\n",
    "try:\n",
    "    data = {[1, 2]: 'Invalid Key'}\n",
    "except TypeError as e:\n",
    "    print(e)  # Output: unhashable type: 'list'\n"
   ]
  },
  {
   "cell_type": "code",
   "execution_count": null,
   "id": "ee735976-e57d-4aef-906d-1d627ed07d86",
   "metadata": {},
   "outputs": [],
   "source": []
  },
  {
   "cell_type": "code",
   "execution_count": null,
   "id": "4ccd2a20-20b8-42a4-ac55-42d3dba5b447",
   "metadata": {},
   "outputs": [],
   "source": []
  }
 ],
 "metadata": {
  "kernelspec": {
   "display_name": "Python 3 (ipykernel)",
   "language": "python",
   "name": "python3"
  },
  "language_info": {
   "codemirror_mode": {
    "name": "ipython",
    "version": 3
   },
   "file_extension": ".py",
   "mimetype": "text/x-python",
   "name": "python",
   "nbconvert_exporter": "python",
   "pygments_lexer": "ipython3",
   "version": "3.12.4"
  }
 },
 "nbformat": 4,
 "nbformat_minor": 5
}
